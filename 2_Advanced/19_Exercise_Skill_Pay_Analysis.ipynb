{
 "cells": [
  {
   "cell_type": "markdown",
   "id": "73db22a8",
   "metadata": {},
   "source": [
    "# Exercise - Investigate High Paying Skills\n",
    "## Topics Covered\n",
    "\n",
    "This exercise goes over:\n",
    "\n",
    "* Plotting \n",
    "* Customization\n",
    "\n",
    "## Question\n",
    "\n",
    "In our project we want to analyze salary data. Here's what we'll be focusing on: \n",
    "* Visualize for highest paying skills\n",
    "* Visualize for highest demanded skills"
   ]
  },
  {
   "cell_type": "code",
   "execution_count": 1,
   "id": "a616fa10",
   "metadata": {},
   "outputs": [
    {
     "name": "stderr",
     "output_type": "stream",
     "text": [
      "/Users/haticekar/Desktop/anaconda/anaconda3/envs/python_course/lib/python3.11/site-packages/tqdm/auto.py:21: TqdmWarning: IProgress not found. Please update jupyter and ipywidgets. See https://ipywidgets.readthedocs.io/en/stable/user_install.html\n",
      "  from .autonotebook import tqdm as notebook_tqdm\n"
     ]
    }
   ],
   "source": [
    "# Importing Libraries\n",
    "import ast\n",
    "import pandas as pd\n",
    "from datasets import load_dataset\n",
    "import matplotlib.pyplot as plt  \n",
    "\n",
    "# Loading Data\n",
    "dataset = load_dataset('lukebarousse/data_jobs')\n",
    "df = dataset['train'].to_pandas()\n",
    "\n",
    "# Data Cleanup\n",
    "df['job_posted_date'] = pd.to_datetime(df['job_posted_date'])\n",
    "df['job_skills'] = df['job_skills'].apply(lambda x: ast.literal_eval(x) if pd.notna(x) else x)"
   ]
  },
  {
   "cell_type": "code",
   "execution_count": 5,
   "id": "5054f75d",
   "metadata": {},
   "outputs": [],
   "source": [
    "# Only get data analyst jobs in the US\n",
    "df_DA_US = df[(df['job_title_short'] == 'Data Analyst') & (df['job_country'] == 'United States')].copy()\n",
    "\n",
    "# Drop NaN values from the 'salary_year_avg' column for accurate visualization\n",
    "df_DA_US = df_DA_US.dropna(subset=['salary_year_avg'])"
   ]
  },
  {
   "cell_type": "markdown",
   "id": "eeb469f9",
   "metadata": {},
   "source": [
    "### Visualize for highest paying skills\n",
    "1. Explode out the skills column."
   ]
  },
  {
   "cell_type": "code",
   "execution_count": 6,
   "id": "9f900d47",
   "metadata": {},
   "outputs": [
    {
     "data": {
      "text/html": [
       "<div>\n",
       "<style scoped>\n",
       "    .dataframe tbody tr th:only-of-type {\n",
       "        vertical-align: middle;\n",
       "    }\n",
       "\n",
       "    .dataframe tbody tr th {\n",
       "        vertical-align: top;\n",
       "    }\n",
       "\n",
       "    .dataframe thead th {\n",
       "        text-align: right;\n",
       "    }\n",
       "</style>\n",
       "<table border=\"1\" class=\"dataframe\">\n",
       "  <thead>\n",
       "    <tr style=\"text-align: right;\">\n",
       "      <th></th>\n",
       "      <th>salary_year_avg</th>\n",
       "      <th>job_skills</th>\n",
       "    </tr>\n",
       "  </thead>\n",
       "  <tbody>\n",
       "    <tr>\n",
       "      <th>109</th>\n",
       "      <td>89000.0</td>\n",
       "      <td>python</td>\n",
       "    </tr>\n",
       "    <tr>\n",
       "      <th>109</th>\n",
       "      <td>89000.0</td>\n",
       "      <td>r</td>\n",
       "    </tr>\n",
       "    <tr>\n",
       "      <th>109</th>\n",
       "      <td>89000.0</td>\n",
       "      <td>alteryx</td>\n",
       "    </tr>\n",
       "    <tr>\n",
       "      <th>109</th>\n",
       "      <td>89000.0</td>\n",
       "      <td>tableau</td>\n",
       "    </tr>\n",
       "    <tr>\n",
       "      <th>180</th>\n",
       "      <td>90250.0</td>\n",
       "      <td>excel</td>\n",
       "    </tr>\n",
       "  </tbody>\n",
       "</table>\n",
       "</div>"
      ],
      "text/plain": [
       "     salary_year_avg job_skills\n",
       "109          89000.0     python\n",
       "109          89000.0          r\n",
       "109          89000.0    alteryx\n",
       "109          89000.0    tableau\n",
       "180          90250.0      excel"
      ]
     },
     "execution_count": 6,
     "metadata": {},
     "output_type": "execute_result"
    }
   ],
   "source": [
    "df_DA_US = df_DA_US.explode('job_skills')\n",
    "\n",
    "df_DA_US[['salary_year_avg', 'job_skills']].head(5)"
   ]
  },
  {
   "cell_type": "markdown",
   "id": "afbde47b",
   "metadata": {},
   "source": [
    "2. Get the highest paying skills (order by highest to lowest)."
   ]
  },
  {
   "cell_type": "markdown",
   "id": "a5a82eb1",
   "metadata": {},
   "source": [
    "#### Aşağıdaki kod: \n",
    "1. df_DA_US.groupby(\"job_skills\"):\n",
    "* df_DA_US veri çerçevesinde (DataFrame), \"job_skills\" sütunundaki benzer değerlere göre gruplama yapılır.\n",
    "\n",
    "2. [\"salary_year_avg\"]:\n",
    "* Her bir beceri grubu için yıllık ortalama maaş (salary_year_avg) bilgisi alınır.\n",
    "\n",
    "3. .agg([\"count\", \"median\"]):\n",
    "* count: Her becerinin kaç satırda geçtiğini (kaç iş ilanında yer aldığını) sayar.\n",
    "* median: O beceriye sahip işlerin yıllık maaşlarının medyanını (ortanca değerini) hesaplar.\n",
    "\n",
    "4. .sort_values(by=\"median\", ascending=False):\n",
    "* Hesaplanan medyan maaşlara göre sıralama yapılır.\n",
    "* En yüksek medyan maaş en üstte olacak şekilde azalan düzende (descending) sıralanır."
   ]
  },
  {
   "cell_type": "code",
   "execution_count": 7,
   "id": "3641b69a",
   "metadata": {},
   "outputs": [
    {
     "data": {
      "text/html": [
       "<div>\n",
       "<style scoped>\n",
       "    .dataframe tbody tr th:only-of-type {\n",
       "        vertical-align: middle;\n",
       "    }\n",
       "\n",
       "    .dataframe tbody tr th {\n",
       "        vertical-align: top;\n",
       "    }\n",
       "\n",
       "    .dataframe thead th {\n",
       "        text-align: right;\n",
       "    }\n",
       "</style>\n",
       "<table border=\"1\" class=\"dataframe\">\n",
       "  <thead>\n",
       "    <tr style=\"text-align: right;\">\n",
       "      <th></th>\n",
       "      <th>count</th>\n",
       "      <th>median</th>\n",
       "    </tr>\n",
       "    <tr>\n",
       "      <th>job_skills</th>\n",
       "      <th></th>\n",
       "      <th></th>\n",
       "    </tr>\n",
       "  </thead>\n",
       "  <tbody>\n",
       "    <tr>\n",
       "      <th>dplyr</th>\n",
       "      <td>2</td>\n",
       "      <td>196250.0</td>\n",
       "    </tr>\n",
       "    <tr>\n",
       "      <th>bitbucket</th>\n",
       "      <td>3</td>\n",
       "      <td>189000.0</td>\n",
       "    </tr>\n",
       "    <tr>\n",
       "      <th>gitlab</th>\n",
       "      <td>3</td>\n",
       "      <td>186000.0</td>\n",
       "    </tr>\n",
       "    <tr>\n",
       "      <th>solidity</th>\n",
       "      <td>1</td>\n",
       "      <td>179000.0</td>\n",
       "    </tr>\n",
       "    <tr>\n",
       "      <th>hugging face</th>\n",
       "      <td>1</td>\n",
       "      <td>175000.0</td>\n",
       "    </tr>\n",
       "    <tr>\n",
       "      <th>couchbase</th>\n",
       "      <td>1</td>\n",
       "      <td>160515.0</td>\n",
       "    </tr>\n",
       "    <tr>\n",
       "      <th>ansible</th>\n",
       "      <td>1</td>\n",
       "      <td>159640.0</td>\n",
       "    </tr>\n",
       "    <tr>\n",
       "      <th>mxnet</th>\n",
       "      <td>2</td>\n",
       "      <td>149000.0</td>\n",
       "    </tr>\n",
       "    <tr>\n",
       "      <th>cassandra</th>\n",
       "      <td>6</td>\n",
       "      <td>148250.0</td>\n",
       "    </tr>\n",
       "    <tr>\n",
       "      <th>vmware</th>\n",
       "      <td>1</td>\n",
       "      <td>147500.0</td>\n",
       "    </tr>\n",
       "  </tbody>\n",
       "</table>\n",
       "</div>"
      ],
      "text/plain": [
       "              count    median\n",
       "job_skills                   \n",
       "dplyr             2  196250.0\n",
       "bitbucket         3  189000.0\n",
       "gitlab            3  186000.0\n",
       "solidity          1  179000.0\n",
       "hugging face      1  175000.0\n",
       "couchbase         1  160515.0\n",
       "ansible           1  159640.0\n",
       "mxnet             2  149000.0\n",
       "cassandra         6  148250.0\n",
       "vmware            1  147500.0"
      ]
     },
     "execution_count": 7,
     "metadata": {},
     "output_type": "execute_result"
    }
   ],
   "source": [
    "df_DA_top_pay = df_DA_US.groupby(\"job_skills\")[\"salary_year_avg\"].agg([\"count\", \"median\"]).sort_values(by=\"median\", ascending=False)\n",
    "\n",
    "df_DA_top_pay = df_DA_top_pay.head(10)\n",
    "df_DA_top_pay"
   ]
  },
  {
   "cell_type": "markdown",
   "id": "e1836ece",
   "metadata": {},
   "source": [
    "3. Match up the highest count (demand) of skills and highest median salary by skill for data analyst roles."
   ]
  },
  {
   "cell_type": "code",
   "execution_count": null,
   "id": "c5d95d59",
   "metadata": {},
   "outputs": [
    {
     "data": {
      "text/html": [
       "<div>\n",
       "<style scoped>\n",
       "    .dataframe tbody tr th:only-of-type {\n",
       "        vertical-align: middle;\n",
       "    }\n",
       "\n",
       "    .dataframe tbody tr th {\n",
       "        vertical-align: top;\n",
       "    }\n",
       "\n",
       "    .dataframe thead th {\n",
       "        text-align: right;\n",
       "    }\n",
       "</style>\n",
       "<table border=\"1\" class=\"dataframe\">\n",
       "  <thead>\n",
       "    <tr style=\"text-align: right;\">\n",
       "      <th></th>\n",
       "      <th>count</th>\n",
       "      <th>median</th>\n",
       "    </tr>\n",
       "    <tr>\n",
       "      <th>job_skills</th>\n",
       "      <th></th>\n",
       "      <th></th>\n",
       "    </tr>\n",
       "  </thead>\n",
       "  <tbody>\n",
       "    <tr>\n",
       "      <th>python</th>\n",
       "      <td>1431</td>\n",
       "      <td>97500.00</td>\n",
       "    </tr>\n",
       "    <tr>\n",
       "      <th>tableau</th>\n",
       "      <td>1364</td>\n",
       "      <td>92875.00</td>\n",
       "    </tr>\n",
       "    <tr>\n",
       "      <th>r</th>\n",
       "      <td>893</td>\n",
       "      <td>92500.00</td>\n",
       "    </tr>\n",
       "    <tr>\n",
       "      <th>sql server</th>\n",
       "      <td>286</td>\n",
       "      <td>92500.00</td>\n",
       "    </tr>\n",
       "    <tr>\n",
       "      <th>sql</th>\n",
       "      <td>2508</td>\n",
       "      <td>91000.00</td>\n",
       "    </tr>\n",
       "    <tr>\n",
       "      <th>sas</th>\n",
       "      <td>926</td>\n",
       "      <td>90000.00</td>\n",
       "    </tr>\n",
       "    <tr>\n",
       "      <th>power bi</th>\n",
       "      <td>838</td>\n",
       "      <td>90000.00</td>\n",
       "    </tr>\n",
       "    <tr>\n",
       "      <th>powerpoint</th>\n",
       "      <td>462</td>\n",
       "      <td>85000.00</td>\n",
       "    </tr>\n",
       "    <tr>\n",
       "      <th>excel</th>\n",
       "      <td>1808</td>\n",
       "      <td>84392.00</td>\n",
       "    </tr>\n",
       "    <tr>\n",
       "      <th>word</th>\n",
       "      <td>461</td>\n",
       "      <td>81194.75</td>\n",
       "    </tr>\n",
       "  </tbody>\n",
       "</table>\n",
       "</div>"
      ],
      "text/plain": [
       "            count    median\n",
       "job_skills                 \n",
       "python       1431  97500.00\n",
       "tableau      1364  92875.00\n",
       "r             893  92500.00\n",
       "sql server    286  92500.00\n",
       "sql          2508  91000.00\n",
       "sas           926  90000.00\n",
       "power bi      838  90000.00\n",
       "powerpoint    462  85000.00\n",
       "excel        1808  84392.00\n",
       "word          461  81194.75"
      ]
     },
     "execution_count": 9,
     "metadata": {},
     "output_type": "execute_result"
    }
   ],
   "source": [
    "df_DA_skills = df_DA_US.groupby(\"job_skills\")[\"salary_year_avg\"].agg([\"count\", \"median\"]).sort_values(by=\"count\", ascending=False)\n",
    "\n",
    "df_DA_skills = df_DA_skills.head(10).sort_values(by=\"median\", ascending=False)\n",
    "\n",
    "df_DA_skills\n",
    "\n",
    "# Önce count —> En yaygın 10 beceri seçilir.\n",
    "# Sonra median —> Bu 10 beceri, medyan maaşa göre sıralanır."
   ]
  },
  {
   "cell_type": "markdown",
   "id": "acc2769b",
   "metadata": {},
   "source": [
    "### Plot\n",
    "5. Let's plot these next to each other using `subplots()`."
   ]
  },
  {
   "cell_type": "code",
   "execution_count": null,
   "id": "2a3fc82f",
   "metadata": {},
   "outputs": [
    {
     "data": {
      "image/png": "[encoded data removed]",
      "text/plain": [
       "<Figure size 640x480 with 2 Axes>"
      ]
     },
     "metadata": {},
     "output_type": "display_data"
    }
   ],
   "source": [
    "fig,ax = plt.subplots(2,1) # 2 satır 1 sütunluk subplot yapısı \n",
    "\n",
    "# Top 10 Highest Paid Skills for Data Analysts\n",
    "df_DA_top_pay[::-1].plot(kind=\"barh\", y=\"median\", ax=ax[0], legend=False) \n",
    "#df_DA_top_pay[::-1]: Veriyi ters çevirerek çizer (böylece en yüksek maaş üstte görünür)., legend=False: Legend (açıklama kutusu) gösterme\n",
    "ax[0].set_title(\"Top 10 Highest Paid Skills for Data Analysts\")\n",
    "ax[0].set_ylabel(\"\")\n",
    "ax[0].set_xlabel(\"\")\n",
    "ax[0].xaxis.set_major_formatter(plt.FuncFormatter(lambda x, _: f'${int(x/1000)}K'))\n",
    "#X ekseninde maaş değerlerini binlik (K) formatında gösterir (örnek: $130K).\n",
    "\n",
    "\n",
    "# Top 10 Most In-Demand Skills for Data Analysts\n",
    "df_DA_skills[::-1].plot(kind=\"barh\", y=\"median\", ax=ax[1], legend=False)\n",
    "ax[1].set_title('Top 10 Most In-Demand Skills for Data Analysts')\n",
    "ax[1].set_ylabel('')\n",
    "ax[1].set_xlabel('Median Salary (USD)')\n",
    "ax[1].set_xlim(ax[0].get_xlim())  # Set the same x-axis limits as the first plot\n",
    "ax[1].xaxis.set_major_formatter(plt.FuncFormatter(lambda x, _: f'${int(x/1000)}K'))\n",
    "\n",
    "plt.tight_layout()\n",
    "plt.show()"
   ]
  }
 ],
 "metadata": {
  "kernelspec": {
   "display_name": "python_course",
   "language": "python",
   "name": "python3"
  },
  "language_info": {
   "codemirror_mode": {
    "name": "ipython",
    "version": 3
   },
   "file_extension": ".py",
   "mimetype": "text/x-python",
   "name": "python",
   "nbconvert_exporter": "python",
   "pygments_lexer": "ipython3",
   "version": "3.11.11"
  }
 },
 "nbformat": 4,
 "nbformat_minor": 5
}
