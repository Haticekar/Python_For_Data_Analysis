{
 "cells": [
  {
   "cell_type": "markdown",
   "id": "eb7412c3",
   "metadata": {},
   "source": [
    "# Pandas Explode"
   ]
  },
  {
   "cell_type": "code",
   "execution_count": 1,
   "id": "c8b49d8b",
   "metadata": {},
   "outputs": [
    {
     "name": "stderr",
     "output_type": "stream",
     "text": [
      "/Users/haticekar/Desktop/anaconda/anaconda3/envs/python_course/lib/python3.11/site-packages/tqdm/auto.py:21: TqdmWarning: IProgress not found. Please update jupyter and ipywidgets. See https://ipywidgets.readthedocs.io/en/stable/user_install.html\n",
      "  from .autonotebook import tqdm as notebook_tqdm\n"
     ]
    }
   ],
   "source": [
    "# Importing Libraries\n",
    "import ast\n",
    "import pandas as pd\n",
    "from datasets import load_dataset\n",
    "import matplotlib.pyplot as plt  \n",
    "\n",
    "# Loading Data\n",
    "dataset = load_dataset('lukebarousse/data_jobs')\n",
    "df = dataset['train'].to_pandas()\n",
    "\n",
    "# Data Cleanup\n",
    "df['job_posted_date'] = pd.to_datetime(df['job_posted_date'])"
   ]
  },
  {
   "cell_type": "markdown",
   "id": "d46ba12c",
   "metadata": {},
   "source": [
    "## Example\n",
    "\n",
    "#### Why `df.explode()` is needed?\n",
    "Here's a fake dataset of 3 job postings."
   ]
  },
  {
   "cell_type": "markdown",
   "id": "1a549c95",
   "metadata": {},
   "source": [
    "#### ✅ Ne yapıyor? -- Aşağıdaki Kod \n",
    "1. Her meslek için sahip olunan yetenekleri (skills) bir liste olarak tanımlıyor.\n",
    "2. Her satırdaki job_skills, bir liste (list) şeklinde.\n"
   ]
  },
  {
   "cell_type": "code",
   "execution_count": 4,
   "id": "9113fe84",
   "metadata": {},
   "outputs": [
    {
     "data": {
      "text/html": [
       "<div>\n",
       "<style scoped>\n",
       "    .dataframe tbody tr th:only-of-type {\n",
       "        vertical-align: middle;\n",
       "    }\n",
       "\n",
       "    .dataframe tbody tr th {\n",
       "        vertical-align: top;\n",
       "    }\n",
       "\n",
       "    .dataframe thead th {\n",
       "        text-align: right;\n",
       "    }\n",
       "</style>\n",
       "<table border=\"1\" class=\"dataframe\">\n",
       "  <thead>\n",
       "    <tr style=\"text-align: right;\">\n",
       "      <th></th>\n",
       "      <th>job_title_short</th>\n",
       "      <th>job_skills</th>\n",
       "    </tr>\n",
       "  </thead>\n",
       "  <tbody>\n",
       "    <tr>\n",
       "      <th>0</th>\n",
       "      <td>Data Analyst</td>\n",
       "      <td>[excel, sql, python]</td>\n",
       "    </tr>\n",
       "    <tr>\n",
       "      <th>1</th>\n",
       "      <td>Data Scientist</td>\n",
       "      <td>[python, r]</td>\n",
       "    </tr>\n",
       "    <tr>\n",
       "      <th>2</th>\n",
       "      <td>Data Engineer</td>\n",
       "      <td>[aws, python, airflow]</td>\n",
       "    </tr>\n",
       "  </tbody>\n",
       "</table>\n",
       "</div>"
      ],
      "text/plain": [
       "  job_title_short              job_skills\n",
       "0    Data Analyst    [excel, sql, python]\n",
       "1  Data Scientist             [python, r]\n",
       "2   Data Engineer  [aws, python, airflow]"
      ]
     },
     "execution_count": 4,
     "metadata": {},
     "output_type": "execute_result"
    }
   ],
   "source": [
    "data = {\n",
    "    \"job_title_short\" : [\"Data Analyst\", \"Data Scientist\", \"Data Engineer\"],\n",
    "    \"job_skills\" : [[\"excel\",\"sql\",\"python\"], [\"python\",\"r\"], [\"aws\",\"python\",\"airflow\"]]\n",
    "}\n",
    "df_skills = pd.DataFrame(data)\n",
    "df_skills"
   ]
  },
  {
   "cell_type": "markdown",
   "id": "3bcb34c3",
   "metadata": {},
   "source": [
    "#### ✅ Ne yapıyor adım adım? - Aşağıdaki Kod \n",
    "1. 🔹 df_skills.copy():\n",
    "Orijinal tabloyu korumak için bir kopya alıyor.\n",
    "\n",
    "2. 🔹 for row in df_skill_lists.itertuples():\n",
    "Satır satır geziyor.\n",
    "\n",
    "3. 🔹 for skill in row.job_skills::\n",
    "O satırdaki skill listesindeki her beceriye tek tek bakıyor.\n",
    "\n",
    "4. 🔹 df_skill_lists[skill] = df_skill_lists[\"job_skills\"].apply(lambda x : skill in x):\n",
    "Örneğin skill = 'python' olduğunda, şunu yapıyor:\n",
    "\"python\" her satırdaki job_skills listesinde var mı?\n",
    "Varsa True, yoksa False\n",
    "\n",
    "5. 🔹 .astype(int):\n",
    "True → 1, False → 0\n",
    "\n",
    "6. 🔹 df_skill_lists.loc[\"Total\"] = df_skill_lists.sum():\n",
    "Her beceri sütununun toplamını alır (kaç kişi biliyor)."
   ]
  },
  {
   "cell_type": "markdown",
   "id": "b865ff1e",
   "metadata": {},
   "source": [
    "If we wanted to analyze the skills in this we'd need a minimum of 5 lines of code to get the counts of skills."
   ]
  },
  {
   "cell_type": "code",
   "execution_count": 5,
   "id": "853c89e6",
   "metadata": {},
   "outputs": [
    {
     "data": {
      "text/html": [
       "<div>\n",
       "<style scoped>\n",
       "    .dataframe tbody tr th:only-of-type {\n",
       "        vertical-align: middle;\n",
       "    }\n",
       "\n",
       "    .dataframe tbody tr th {\n",
       "        vertical-align: top;\n",
       "    }\n",
       "\n",
       "    .dataframe thead th {\n",
       "        text-align: right;\n",
       "    }\n",
       "</style>\n",
       "<table border=\"1\" class=\"dataframe\">\n",
       "  <thead>\n",
       "    <tr style=\"text-align: right;\">\n",
       "      <th></th>\n",
       "      <th>excel</th>\n",
       "      <th>sql</th>\n",
       "      <th>python</th>\n",
       "      <th>r</th>\n",
       "      <th>aws</th>\n",
       "      <th>airflow</th>\n",
       "    </tr>\n",
       "  </thead>\n",
       "  <tbody>\n",
       "    <tr>\n",
       "      <th>0</th>\n",
       "      <td>1</td>\n",
       "      <td>1</td>\n",
       "      <td>1</td>\n",
       "      <td>0</td>\n",
       "      <td>0</td>\n",
       "      <td>0</td>\n",
       "    </tr>\n",
       "    <tr>\n",
       "      <th>1</th>\n",
       "      <td>0</td>\n",
       "      <td>0</td>\n",
       "      <td>1</td>\n",
       "      <td>1</td>\n",
       "      <td>0</td>\n",
       "      <td>0</td>\n",
       "    </tr>\n",
       "    <tr>\n",
       "      <th>2</th>\n",
       "      <td>0</td>\n",
       "      <td>0</td>\n",
       "      <td>1</td>\n",
       "      <td>0</td>\n",
       "      <td>1</td>\n",
       "      <td>1</td>\n",
       "    </tr>\n",
       "    <tr>\n",
       "      <th>Total</th>\n",
       "      <td>1</td>\n",
       "      <td>1</td>\n",
       "      <td>3</td>\n",
       "      <td>1</td>\n",
       "      <td>1</td>\n",
       "      <td>1</td>\n",
       "    </tr>\n",
       "  </tbody>\n",
       "</table>\n",
       "</div>"
      ],
      "text/plain": [
       "       excel  sql  python  r  aws  airflow\n",
       "0          1    1       1  0    0        0\n",
       "1          0    0       1  1    0        0\n",
       "2          0    0       1  0    1        1\n",
       "Total      1    1       3  1    1        1"
      ]
     },
     "execution_count": 5,
     "metadata": {},
     "output_type": "execute_result"
    }
   ],
   "source": [
    "df_skill_lists = df_skills.copy()\n",
    "\n",
    "for row in df_skill_lists.itertuples():\n",
    "    for skill in row.job_skills:\n",
    "        df_skill_lists[skill] = df_skill_lists[\"job_skills\"].apply(lambda x : skill in x)\n",
    "        df_skill_lists[skill] = df_skill_lists[skill].astype(int)\n",
    "df_skill_lists.loc[\"Total\"] = df_skill_lists.sum()\n",
    "df_skill_lists.iloc[:, 2:]"
   ]
  },
  {
   "cell_type": "markdown",
   "id": "c9c99d03",
   "metadata": {},
   "source": [
    "However, exploding it out makes the data a lot easier to work with."
   ]
  },
  {
   "cell_type": "markdown",
   "id": "449bf029",
   "metadata": {},
   "source": [
    "* Aşağıdaki çıktıda şu oldu:\n",
    "\n",
    "Orijinal index'ler:\n",
    "1. Data Analyst satırı index = 0\n",
    "2. Data Scientist satırı index = 1\n",
    "3. Data Engineer satırı index = 2"
   ]
  },
  {
   "cell_type": "code",
   "execution_count": 6,
   "id": "b00f657e",
   "metadata": {},
   "outputs": [
    {
     "data": {
      "text/html": [
       "<div>\n",
       "<style scoped>\n",
       "    .dataframe tbody tr th:only-of-type {\n",
       "        vertical-align: middle;\n",
       "    }\n",
       "\n",
       "    .dataframe tbody tr th {\n",
       "        vertical-align: top;\n",
       "    }\n",
       "\n",
       "    .dataframe thead th {\n",
       "        text-align: right;\n",
       "    }\n",
       "</style>\n",
       "<table border=\"1\" class=\"dataframe\">\n",
       "  <thead>\n",
       "    <tr style=\"text-align: right;\">\n",
       "      <th></th>\n",
       "      <th>job_title_short</th>\n",
       "      <th>job_skills</th>\n",
       "    </tr>\n",
       "  </thead>\n",
       "  <tbody>\n",
       "    <tr>\n",
       "      <th>0</th>\n",
       "      <td>Data Analyst</td>\n",
       "      <td>excel</td>\n",
       "    </tr>\n",
       "    <tr>\n",
       "      <th>0</th>\n",
       "      <td>Data Analyst</td>\n",
       "      <td>sql</td>\n",
       "    </tr>\n",
       "    <tr>\n",
       "      <th>0</th>\n",
       "      <td>Data Analyst</td>\n",
       "      <td>python</td>\n",
       "    </tr>\n",
       "    <tr>\n",
       "      <th>1</th>\n",
       "      <td>Data Scientist</td>\n",
       "      <td>python</td>\n",
       "    </tr>\n",
       "    <tr>\n",
       "      <th>1</th>\n",
       "      <td>Data Scientist</td>\n",
       "      <td>r</td>\n",
       "    </tr>\n",
       "    <tr>\n",
       "      <th>2</th>\n",
       "      <td>Data Engineer</td>\n",
       "      <td>aws</td>\n",
       "    </tr>\n",
       "    <tr>\n",
       "      <th>2</th>\n",
       "      <td>Data Engineer</td>\n",
       "      <td>python</td>\n",
       "    </tr>\n",
       "    <tr>\n",
       "      <th>2</th>\n",
       "      <td>Data Engineer</td>\n",
       "      <td>airflow</td>\n",
       "    </tr>\n",
       "  </tbody>\n",
       "</table>\n",
       "</div>"
      ],
      "text/plain": [
       "  job_title_short job_skills\n",
       "0    Data Analyst      excel\n",
       "0    Data Analyst        sql\n",
       "0    Data Analyst     python\n",
       "1  Data Scientist     python\n",
       "1  Data Scientist          r\n",
       "2   Data Engineer        aws\n",
       "2   Data Engineer     python\n",
       "2   Data Engineer    airflow"
      ]
     },
     "execution_count": 6,
     "metadata": {},
     "output_type": "execute_result"
    }
   ],
   "source": [
    "df_exploded = df_skills.explode(\"job_skills\")\n",
    "df_exploded"
   ]
  },
  {
   "cell_type": "markdown",
   "id": "161da57d",
   "metadata": {},
   "source": [
    "Now we can perform value_counts and even plot it."
   ]
  },
  {
   "cell_type": "code",
   "execution_count": 7,
   "id": "9d4ce961",
   "metadata": {},
   "outputs": [
    {
     "data": {
      "text/plain": [
       "job_skills\n",
       "python     3\n",
       "airflow    1\n",
       "aws        1\n",
       "excel      1\n",
       "r          1\n",
       "sql        1\n",
       "Name: count, dtype: int64"
      ]
     },
     "execution_count": 7,
     "metadata": {},
     "output_type": "execute_result"
    }
   ],
   "source": [
    "df_exploded.value_counts(\"job_skills\")"
   ]
  },
  {
   "cell_type": "code",
   "execution_count": 9,
   "id": "9c3c6748",
   "metadata": {},
   "outputs": [
    {
     "data": {
      "text/plain": [
       "<Axes: xlabel='job_skills'>"
      ]
     },
     "execution_count": 9,
     "metadata": {},
     "output_type": "execute_result"
    },
    {
     "data": {
      "image/png": "[encoded data removed]",
      "text/plain": [
       "<Figure size 640x480 with 1 Axes>"
      ]
     },
     "metadata": {},
     "output_type": "display_data"
    }
   ],
   "source": [
    "df_exploded.value_counts(\"job_skills\").plot(kind=\"bar\")"
   ]
  },
  {
   "cell_type": "markdown",
   "id": "7bc8d9fb",
   "metadata": {},
   "source": [
    "## Notes\n",
    "\n",
    "* `explode()` - transforms each element of a list-like to a row\n",
    "* Expand list-like data within a DataFrame column into separate rows. \n",
    "* Commonly used to split list data into individual rows for analysis (*hint* *hint*) or when working with JSON data in a DataFrame.\n",
    "\n",
    "## Example\n",
    "\n",
    "Let's transform the list like elements in the `job_skills` column to a row using the `explode()` function. This will make it so each skill will have its own row and we'll save this into a new DataFrame called `df_exploded`.\n",
    "\n",
    "In the last section we already prepared our data and we converted our `job_skills` column to a list."
   ]
  },
  {
   "cell_type": "code",
   "execution_count": 10,
   "id": "5fd96b3b",
   "metadata": {},
   "outputs": [
    {
     "data": {
      "text/html": [
       "<div>\n",
       "<style scoped>\n",
       "    .dataframe tbody tr th:only-of-type {\n",
       "        vertical-align: middle;\n",
       "    }\n",
       "\n",
       "    .dataframe tbody tr th {\n",
       "        vertical-align: top;\n",
       "    }\n",
       "\n",
       "    .dataframe thead th {\n",
       "        text-align: right;\n",
       "    }\n",
       "</style>\n",
       "<table border=\"1\" class=\"dataframe\">\n",
       "  <thead>\n",
       "    <tr style=\"text-align: right;\">\n",
       "      <th></th>\n",
       "      <th>job_title_short</th>\n",
       "      <th>job_skills</th>\n",
       "    </tr>\n",
       "  </thead>\n",
       "  <tbody>\n",
       "    <tr>\n",
       "      <th>0</th>\n",
       "      <td>Senior Data Engineer</td>\n",
       "      <td>None</td>\n",
       "    </tr>\n",
       "    <tr>\n",
       "      <th>1</th>\n",
       "      <td>Data Analyst</td>\n",
       "      <td>[r, python, sql, nosql, power bi, tableau]</td>\n",
       "    </tr>\n",
       "    <tr>\n",
       "      <th>2</th>\n",
       "      <td>Data Engineer</td>\n",
       "      <td>[python, sql, c#, azure, airflow, dax, docker,...</td>\n",
       "    </tr>\n",
       "    <tr>\n",
       "      <th>3</th>\n",
       "      <td>Data Engineer</td>\n",
       "      <td>[python, c++, java, matlab, aws, tensorflow, k...</td>\n",
       "    </tr>\n",
       "    <tr>\n",
       "      <th>4</th>\n",
       "      <td>Data Engineer</td>\n",
       "      <td>[bash, python, oracle, aws, ansible, puppet, j...</td>\n",
       "    </tr>\n",
       "  </tbody>\n",
       "</table>\n",
       "</div>"
      ],
      "text/plain": [
       "        job_title_short                                         job_skills\n",
       "0  Senior Data Engineer                                               None\n",
       "1          Data Analyst         [r, python, sql, nosql, power bi, tableau]\n",
       "2         Data Engineer  [python, sql, c#, azure, airflow, dax, docker,...\n",
       "3         Data Engineer  [python, c++, java, matlab, aws, tensorflow, k...\n",
       "4         Data Engineer  [bash, python, oracle, aws, ansible, puppet, j..."
      ]
     },
     "execution_count": 10,
     "metadata": {},
     "output_type": "execute_result"
    }
   ],
   "source": [
    "# Convert string representation to actual list, checking for NaN values first\n",
    "df[\"job_skills\"] = df[\"job_skills\"].apply(lambda x : ast.literal_eval(x) if pd.notna(x) else x)\n",
    "df[[\"job_title_short\", \"job_skills\"]].head()"
   ]
  },
  {
   "cell_type": "markdown",
   "id": "f031ee89",
   "metadata": {},
   "source": [
    "Now we're going to apply the `explode()` function onto each skill and make each skill have its own row."
   ]
  },
  {
   "cell_type": "code",
   "execution_count": null,
   "id": "bbe79cb8",
   "metadata": {},
   "outputs": [],
   "source": [
    "# Explode 'job_skills' so each skill gets its own row\n",
    "df_exploded = df.explode(\"job_skills\")"
   ]
  },
  {
   "cell_type": "code",
   "execution_count": 13,
   "id": "879e1d14",
   "metadata": {},
   "outputs": [
    {
     "data": {
      "text/plain": [
       "0               None\n",
       "1                  r\n",
       "1             python\n",
       "1                sql\n",
       "1              nosql\n",
       "             ...    \n",
       "785739         kafka\n",
       "785739    kubernetes\n",
       "785739        docker\n",
       "785740           aws\n",
       "785740          flow\n",
       "Name: job_skills, Length: 3777320, dtype: object"
      ]
     },
     "execution_count": 13,
     "metadata": {},
     "output_type": "execute_result"
    }
   ],
   "source": [
    "df_exploded[\"job_skills\"]"
   ]
  },
  {
   "cell_type": "markdown",
   "id": "01860bf0",
   "metadata": {},
   "source": [
    "And now let's visualize it by getting the `value_counts()` of each skill."
   ]
  },
  {
   "cell_type": "code",
   "execution_count": 25,
   "id": "8f568b21",
   "metadata": {},
   "outputs": [
    {
     "data": {
      "image/png": "[encoded data removed]",
      "text/plain": [
       "<Figure size 640x480 with 1 Axes>"
      ]
     },
     "metadata": {},
     "output_type": "display_data"
    }
   ],
   "source": [
    "df_exploded[\"job_skills\"].value_counts().head(10).plot(kind=\"bar\")\n",
    "plt.show()"
   ]
  },
  {
   "cell_type": "markdown",
   "id": "edce9223",
   "metadata": {},
   "source": [
    "### Calculate Skill Count\n",
    "\n",
    "1. Then clean up the skills. We already did this in our last example."
   ]
  },
  {
   "cell_type": "code",
   "execution_count": 26,
   "id": "84000048",
   "metadata": {},
   "outputs": [],
   "source": [
    "# Explode job_skills column\n",
    "df_skills = df_skills.explode(\"job_skills\")\n"
   ]
  },
  {
   "cell_type": "markdown",
   "id": "8f872da1",
   "metadata": {},
   "source": [
    "2. Now we'll calculate the skill count for each data job."
   ]
  },
  {
   "cell_type": "code",
   "execution_count": 28,
   "id": "54d7ec91",
   "metadata": {},
   "outputs": [
    {
     "name": "stdout",
     "output_type": "stream",
     "text": [
      "Type of skills_count:  <class 'pandas.core.series.Series'>\n"
     ]
    },
    {
     "data": {
      "text/plain": [
       "job_skills  job_title_short          \n",
       "airflow     Business Analyst               318\n",
       "            Cloud Engineer                 260\n",
       "            Data Analyst                  2002\n",
       "            Data Engineer                25505\n",
       "            Data Scientist                3915\n",
       "                                         ...  \n",
       "zoom        Machine Learning Engineer       46\n",
       "            Senior Data Analyst             86\n",
       "            Senior Data Engineer           122\n",
       "            Senior Data Scientist           79\n",
       "            Software Engineer              229\n",
       "Length: 2256, dtype: int64"
      ]
     },
     "execution_count": 28,
     "metadata": {},
     "output_type": "execute_result"
    }
   ],
   "source": [
    "# Group by job_skills and job_title_short and count the number of occurrences\n",
    "skills_count = df_skills.groupby(['job_skills', 'job_title_short']).size()\n",
    "\n",
    "print('Type of skills_count: ', type(skills_count))\n",
    "skills_count"
   ]
  },
  {
   "cell_type": "markdown",
   "id": "15a330e4",
   "metadata": {},
   "source": [
    "3. We'll `reset_index` to transform skills_count from a Series to a DataFrame."
   ]
  },
  {
   "cell_type": "code",
   "execution_count": 30,
   "id": "9aed4345",
   "metadata": {},
   "outputs": [
    {
     "data": {
      "text/html": [
       "<div>\n",
       "<style scoped>\n",
       "    .dataframe tbody tr th:only-of-type {\n",
       "        vertical-align: middle;\n",
       "    }\n",
       "\n",
       "    .dataframe tbody tr th {\n",
       "        vertical-align: top;\n",
       "    }\n",
       "\n",
       "    .dataframe thead th {\n",
       "        text-align: right;\n",
       "    }\n",
       "</style>\n",
       "<table border=\"1\" class=\"dataframe\">\n",
       "  <thead>\n",
       "    <tr style=\"text-align: right;\">\n",
       "      <th></th>\n",
       "      <th>job_skills</th>\n",
       "      <th>job_title_short</th>\n",
       "      <th>skill_count</th>\n",
       "    </tr>\n",
       "  </thead>\n",
       "  <tbody>\n",
       "    <tr>\n",
       "      <th>0</th>\n",
       "      <td>airflow</td>\n",
       "      <td>Business Analyst</td>\n",
       "      <td>318</td>\n",
       "    </tr>\n",
       "    <tr>\n",
       "      <th>1</th>\n",
       "      <td>airflow</td>\n",
       "      <td>Cloud Engineer</td>\n",
       "      <td>260</td>\n",
       "    </tr>\n",
       "    <tr>\n",
       "      <th>2</th>\n",
       "      <td>airflow</td>\n",
       "      <td>Data Analyst</td>\n",
       "      <td>2002</td>\n",
       "    </tr>\n",
       "    <tr>\n",
       "      <th>3</th>\n",
       "      <td>airflow</td>\n",
       "      <td>Data Engineer</td>\n",
       "      <td>25505</td>\n",
       "    </tr>\n",
       "    <tr>\n",
       "      <th>4</th>\n",
       "      <td>airflow</td>\n",
       "      <td>Data Scientist</td>\n",
       "      <td>3915</td>\n",
       "    </tr>\n",
       "    <tr>\n",
       "      <th>...</th>\n",
       "      <td>...</td>\n",
       "      <td>...</td>\n",
       "      <td>...</td>\n",
       "    </tr>\n",
       "    <tr>\n",
       "      <th>2251</th>\n",
       "      <td>zoom</td>\n",
       "      <td>Machine Learning Engineer</td>\n",
       "      <td>46</td>\n",
       "    </tr>\n",
       "    <tr>\n",
       "      <th>2252</th>\n",
       "      <td>zoom</td>\n",
       "      <td>Senior Data Analyst</td>\n",
       "      <td>86</td>\n",
       "    </tr>\n",
       "    <tr>\n",
       "      <th>2253</th>\n",
       "      <td>zoom</td>\n",
       "      <td>Senior Data Engineer</td>\n",
       "      <td>122</td>\n",
       "    </tr>\n",
       "    <tr>\n",
       "      <th>2254</th>\n",
       "      <td>zoom</td>\n",
       "      <td>Senior Data Scientist</td>\n",
       "      <td>79</td>\n",
       "    </tr>\n",
       "    <tr>\n",
       "      <th>2255</th>\n",
       "      <td>zoom</td>\n",
       "      <td>Software Engineer</td>\n",
       "      <td>229</td>\n",
       "    </tr>\n",
       "  </tbody>\n",
       "</table>\n",
       "<p>2256 rows × 3 columns</p>\n",
       "</div>"
      ],
      "text/plain": [
       "     job_skills            job_title_short  skill_count\n",
       "0       airflow           Business Analyst          318\n",
       "1       airflow             Cloud Engineer          260\n",
       "2       airflow               Data Analyst         2002\n",
       "3       airflow              Data Engineer        25505\n",
       "4       airflow             Data Scientist         3915\n",
       "...         ...                        ...          ...\n",
       "2251       zoom  Machine Learning Engineer           46\n",
       "2252       zoom        Senior Data Analyst           86\n",
       "2253       zoom       Senior Data Engineer          122\n",
       "2254       zoom      Senior Data Scientist           79\n",
       "2255       zoom          Software Engineer          229\n",
       "\n",
       "[2256 rows x 3 columns]"
      ]
     },
     "execution_count": 30,
     "metadata": {},
     "output_type": "execute_result"
    }
   ],
   "source": [
    "# Name the count column as count\n",
    "df_skills_count = skills_count.reset_index(name=\"skill_count\") # we need to rename the main Series value to count\n",
    "df_skills_count"
   ]
  },
  {
   "cell_type": "markdown",
   "id": "fcd5260c",
   "metadata": {},
   "source": [
    "4. We'll prep for plotting by the data getting in descending order."
   ]
  },
  {
   "cell_type": "code",
   "execution_count": 24,
   "id": "2bb6f464",
   "metadata": {},
   "outputs": [
    {
     "data": {
      "text/html": [
       "<div>\n",
       "<style scoped>\n",
       "    .dataframe tbody tr th:only-of-type {\n",
       "        vertical-align: middle;\n",
       "    }\n",
       "\n",
       "    .dataframe tbody tr th {\n",
       "        vertical-align: top;\n",
       "    }\n",
       "\n",
       "    .dataframe thead th {\n",
       "        text-align: right;\n",
       "    }\n",
       "</style>\n",
       "<table border=\"1\" class=\"dataframe\">\n",
       "  <thead>\n",
       "    <tr style=\"text-align: right;\">\n",
       "      <th></th>\n",
       "      <th>job_skills</th>\n",
       "      <th>job_title_short</th>\n",
       "      <th>skill_count</th>\n",
       "    </tr>\n",
       "  </thead>\n",
       "  <tbody>\n",
       "    <tr>\n",
       "      <th>1915</th>\n",
       "      <td>symfony</td>\n",
       "      <td>Senior Data Analyst</td>\n",
       "      <td>1</td>\n",
       "    </tr>\n",
       "    <tr>\n",
       "      <th>356</th>\n",
       "      <td>couchdb</td>\n",
       "      <td>Senior Data Analyst</td>\n",
       "      <td>1</td>\n",
       "    </tr>\n",
       "    <tr>\n",
       "      <th>401</th>\n",
       "      <td>datarobot</td>\n",
       "      <td>Cloud Engineer</td>\n",
       "      <td>1</td>\n",
       "    </tr>\n",
       "    <tr>\n",
       "      <th>1093</th>\n",
       "      <td>monday.com</td>\n",
       "      <td>Machine Learning Engineer</td>\n",
       "      <td>1</td>\n",
       "    </tr>\n",
       "    <tr>\n",
       "      <th>440</th>\n",
       "      <td>delphi</td>\n",
       "      <td>Cloud Engineer</td>\n",
       "      <td>1</td>\n",
       "    </tr>\n",
       "    <tr>\n",
       "      <th>...</th>\n",
       "      <td>...</td>\n",
       "      <td>...</td>\n",
       "      <td>...</td>\n",
       "    </tr>\n",
       "    <tr>\n",
       "      <th>1823</th>\n",
       "      <td>sql</td>\n",
       "      <td>Data Scientist</td>\n",
       "      <td>78982</td>\n",
       "    </tr>\n",
       "    <tr>\n",
       "      <th>1821</th>\n",
       "      <td>sql</td>\n",
       "      <td>Data Analyst</td>\n",
       "      <td>92428</td>\n",
       "    </tr>\n",
       "    <tr>\n",
       "      <th>1479</th>\n",
       "      <td>python</td>\n",
       "      <td>Data Engineer</td>\n",
       "      <td>108022</td>\n",
       "    </tr>\n",
       "    <tr>\n",
       "      <th>1822</th>\n",
       "      <td>sql</td>\n",
       "      <td>Data Engineer</td>\n",
       "      <td>113130</td>\n",
       "    </tr>\n",
       "    <tr>\n",
       "      <th>1480</th>\n",
       "      <td>python</td>\n",
       "      <td>Data Scientist</td>\n",
       "      <td>113711</td>\n",
       "    </tr>\n",
       "  </tbody>\n",
       "</table>\n",
       "<p>2256 rows × 3 columns</p>\n",
       "</div>"
      ],
      "text/plain": [
       "      job_skills            job_title_short  skill_count\n",
       "1915     symfony        Senior Data Analyst            1\n",
       "356      couchdb        Senior Data Analyst            1\n",
       "401    datarobot             Cloud Engineer            1\n",
       "1093  monday.com  Machine Learning Engineer            1\n",
       "440       delphi             Cloud Engineer            1\n",
       "...          ...                        ...          ...\n",
       "1823         sql             Data Scientist        78982\n",
       "1821         sql               Data Analyst        92428\n",
       "1479      python              Data Engineer       108022\n",
       "1822         sql              Data Engineer       113130\n",
       "1480      python             Data Scientist       113711\n",
       "\n",
       "[2256 rows x 3 columns]"
      ]
     },
     "execution_count": 24,
     "metadata": {},
     "output_type": "execute_result"
    }
   ],
   "source": [
    "df_skills_count.sort_values(by=\"skill_count\", inplace = True)\n",
    "df_skills_count"
   ]
  },
  {
   "cell_type": "markdown",
   "id": "c206365d",
   "metadata": {},
   "source": [
    "5. Finally, we'll graph the top 10 skills using a bar chart."
   ]
  },
  {
   "cell_type": "code",
   "execution_count": 45,
   "id": "9454a20f",
   "metadata": {},
   "outputs": [
    {
     "data": {
      "text/html": [
       "<div>\n",
       "<style scoped>\n",
       "    .dataframe tbody tr th:only-of-type {\n",
       "        vertical-align: middle;\n",
       "    }\n",
       "\n",
       "    .dataframe tbody tr th {\n",
       "        vertical-align: top;\n",
       "    }\n",
       "\n",
       "    .dataframe thead th {\n",
       "        text-align: right;\n",
       "    }\n",
       "</style>\n",
       "<table border=\"1\" class=\"dataframe\">\n",
       "  <thead>\n",
       "    <tr style=\"text-align: right;\">\n",
       "      <th></th>\n",
       "      <th>job_skills</th>\n",
       "      <th>job_title_short</th>\n",
       "      <th>skill_count</th>\n",
       "    </tr>\n",
       "  </thead>\n",
       "  <tbody>\n",
       "    <tr>\n",
       "      <th>2</th>\n",
       "      <td>airflow</td>\n",
       "      <td>Data Analyst</td>\n",
       "      <td>2002</td>\n",
       "    </tr>\n",
       "    <tr>\n",
       "      <th>12</th>\n",
       "      <td>airtable</td>\n",
       "      <td>Data Analyst</td>\n",
       "      <td>88</td>\n",
       "    </tr>\n",
       "    <tr>\n",
       "      <th>22</th>\n",
       "      <td>alteryx</td>\n",
       "      <td>Data Analyst</td>\n",
       "      <td>4570</td>\n",
       "    </tr>\n",
       "    <tr>\n",
       "      <th>32</th>\n",
       "      <td>angular</td>\n",
       "      <td>Data Analyst</td>\n",
       "      <td>376</td>\n",
       "    </tr>\n",
       "    <tr>\n",
       "      <th>41</th>\n",
       "      <td>angular.js</td>\n",
       "      <td>Data Analyst</td>\n",
       "      <td>2</td>\n",
       "    </tr>\n",
       "    <tr>\n",
       "      <th>49</th>\n",
       "      <td>ansible</td>\n",
       "      <td>Data Analyst</td>\n",
       "      <td>186</td>\n",
       "    </tr>\n",
       "    <tr>\n",
       "      <th>59</th>\n",
       "      <td>apl</td>\n",
       "      <td>Data Analyst</td>\n",
       "      <td>53</td>\n",
       "    </tr>\n",
       "    <tr>\n",
       "      <th>69</th>\n",
       "      <td>arch</td>\n",
       "      <td>Data Analyst</td>\n",
       "      <td>63</td>\n",
       "    </tr>\n",
       "    <tr>\n",
       "      <th>79</th>\n",
       "      <td>asana</td>\n",
       "      <td>Data Analyst</td>\n",
       "      <td>176</td>\n",
       "    </tr>\n",
       "    <tr>\n",
       "      <th>89</th>\n",
       "      <td>asp.net</td>\n",
       "      <td>Data Analyst</td>\n",
       "      <td>181</td>\n",
       "    </tr>\n",
       "    <tr>\n",
       "      <th>99</th>\n",
       "      <td>asp.net core</td>\n",
       "      <td>Data Analyst</td>\n",
       "      <td>11</td>\n",
       "    </tr>\n",
       "    <tr>\n",
       "      <th>110</th>\n",
       "      <td>assembly</td>\n",
       "      <td>Data Analyst</td>\n",
       "      <td>546</td>\n",
       "    </tr>\n",
       "    <tr>\n",
       "      <th>120</th>\n",
       "      <td>atlassian</td>\n",
       "      <td>Data Analyst</td>\n",
       "      <td>336</td>\n",
       "    </tr>\n",
       "    <tr>\n",
       "      <th>130</th>\n",
       "      <td>aurora</td>\n",
       "      <td>Data Analyst</td>\n",
       "      <td>183</td>\n",
       "    </tr>\n",
       "    <tr>\n",
       "      <th>140</th>\n",
       "      <td>aws</td>\n",
       "      <td>Data Analyst</td>\n",
       "      <td>9047</td>\n",
       "    </tr>\n",
       "    <tr>\n",
       "      <th>150</th>\n",
       "      <td>azure</td>\n",
       "      <td>Data Analyst</td>\n",
       "      <td>10913</td>\n",
       "    </tr>\n",
       "    <tr>\n",
       "      <th>160</th>\n",
       "      <td>bash</td>\n",
       "      <td>Data Analyst</td>\n",
       "      <td>536</td>\n",
       "    </tr>\n",
       "    <tr>\n",
       "      <th>170</th>\n",
       "      <td>bigquery</td>\n",
       "      <td>Data Analyst</td>\n",
       "      <td>3431</td>\n",
       "    </tr>\n",
       "    <tr>\n",
       "      <th>180</th>\n",
       "      <td>bitbucket</td>\n",
       "      <td>Data Analyst</td>\n",
       "      <td>338</td>\n",
       "    </tr>\n",
       "    <tr>\n",
       "      <th>189</th>\n",
       "      <td>blazor</td>\n",
       "      <td>Data Analyst</td>\n",
       "      <td>5</td>\n",
       "    </tr>\n",
       "  </tbody>\n",
       "</table>\n",
       "</div>"
      ],
      "text/plain": [
       "       job_skills job_title_short  skill_count\n",
       "2         airflow    Data Analyst         2002\n",
       "12       airtable    Data Analyst           88\n",
       "22        alteryx    Data Analyst         4570\n",
       "32        angular    Data Analyst          376\n",
       "41     angular.js    Data Analyst            2\n",
       "49        ansible    Data Analyst          186\n",
       "59            apl    Data Analyst           53\n",
       "69           arch    Data Analyst           63\n",
       "79          asana    Data Analyst          176\n",
       "89        asp.net    Data Analyst          181\n",
       "99   asp.net core    Data Analyst           11\n",
       "110      assembly    Data Analyst          546\n",
       "120     atlassian    Data Analyst          336\n",
       "130        aurora    Data Analyst          183\n",
       "140           aws    Data Analyst         9047\n",
       "150         azure    Data Analyst        10913\n",
       "160          bash    Data Analyst          536\n",
       "170      bigquery    Data Analyst         3431\n",
       "180     bitbucket    Data Analyst          338\n",
       "189        blazor    Data Analyst            5"
      ]
     },
     "execution_count": 45,
     "metadata": {},
     "output_type": "execute_result"
    }
   ],
   "source": [
    "job_title = \"Data Analyst\"\n",
    "head_value = 20\n",
    "\n",
    "df_skill_final = df_skills_count[df_skills_count[\"job_title_short\"]==job_title].head(head_value)\n",
    "df_skill_final"
   ]
  },
  {
   "cell_type": "code",
   "execution_count": 46,
   "id": "020ea3a6",
   "metadata": {},
   "outputs": [
    {
     "data": {
      "text/plain": [
       "<function matplotlib.pyplot.show(close=None, block=None)>"
      ]
     },
     "execution_count": 46,
     "metadata": {},
     "output_type": "execute_result"
    },
    {
     "data": {
      "image/png": "[encoded data removed]",
      "text/plain": [
       "<Figure size 640x480 with 1 Axes>"
      ]
     },
     "metadata": {},
     "output_type": "display_data"
    }
   ],
   "source": [
    "df_skill_final.plot(kind=\"barh\", x=\"job_skills\", y=\"skill_count\")\n",
    "plt.xlabel(\"Job Posting Count\")\n",
    "plt.ylabel(\"\")\n",
    "plt.title(f'Top {head_value} Skills for {job_title}s')\n",
    "plt.gca().invert_yaxis() # To display the highest value on top\n",
    "plt.legend().set_visible(False)\n",
    "plt.show"
   ]
  },
  {
   "cell_type": "markdown",
   "id": "4ca83ce2",
   "metadata": {},
   "source": [
    "### pandas.DataFrame.explode\n",
    "DataFrame.explode(column, ignore_index=False)[source]\n",
    "* Transform each element of a list-like to a row, replicating index values."
   ]
  },
  {
   "cell_type": "markdown",
   "id": "3f7e312b",
   "metadata": {},
   "source": [
    "1. columnIndexLabel ---> \n",
    "Column(s) to explode. For multiple columns, specify a non-empty list with each element be str or tuple, and all specified columns their list-like data on same row of the frame must have matching length.\n",
    "\n",
    "2. ignore_indexbool, default False --->\n",
    "If True, the resulting index will be labeled 0, 1, …, n - 1."
   ]
  }
 ],
 "metadata": {
  "kernelspec": {
   "display_name": "python_course",
   "language": "python",
   "name": "python3"
  },
  "language_info": {
   "codemirror_mode": {
    "name": "ipython",
    "version": 3
   },
   "file_extension": ".py",
   "mimetype": "text/x-python",
   "name": "python",
   "nbconvert_exporter": "python",
   "pygments_lexer": "ipython3",
   "version": "3.11.11"
  }
 },
 "nbformat": 4,
 "nbformat_minor": 5
}
